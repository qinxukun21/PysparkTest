{
 "cells": [
  {
   "cell_type": "code",
   "execution_count": 1,
   "id": "e75d1589",
   "metadata": {
    "collapsed": true
   },
   "outputs": [],
   "source": [
    "import numpy as np\n",
    "import scipy  \n",
    "import pandas as pd\n",
    "import pyspark\n",
    "from pyspark import SparkContext\n",
    "from pyspark.sql.types import *\n",
    "from pyspark.sql import SQLContext, DataFrame, SparkSession, functions\n",
    "from pyspark.ml.feature import HashingTF, IDF, Tokenizer, Word2Vec\n",
    "from pyspark.ml.classification import LogisticRegression, DecisionTreeClassifier, LinearSVC, RandomForestClassifier, MultilayerPerceptronClassifier,GBTClassifier\n",
    "from pyspark.ml.evaluation import BinaryClassificationEvaluator, MulticlassClassificationEvaluator\n",
    "from pyspark.ml.linalg import DenseVector"
   ]
  },
  {
   "cell_type": "code",
   "execution_count": 2,
   "id": "9dc7445c",
   "metadata": {},
   "outputs": [
    {
     "name": "stderr",
     "output_type": "stream",
     "text": [
      "/usr/local/hadoop/spark-3.2.0-bin-hadoop3.2/python/pyspark/context.py:238: FutureWarning: Python 3.6 support is deprecated in Spark 3.2.\n",
      "  FutureWarning\n"
     ]
    }
   ],
   "source": [
    "spark=SparkSession.builder.appName('NewsClassification').config(\"spark.driver.memory\", \"16g\").getOrCreate()\n",
    "data = spark.read.csv('file:///home/lalala/hadoop/train.csv', header=True)\n",
    "train, test = data.randomSplit([0.9,0.1],seed=2022)"
   ]
  },
  {
   "cell_type": "markdown",
   "id": "bf193386",
   "metadata": {},
   "source": [
    "# title"
   ]
  },
  {
   "cell_type": "code",
   "execution_count": 3,
   "id": "3a76fc8a",
   "metadata": {
    "collapsed": true
   },
   "outputs": [],
   "source": [
    "title_tokenizer = Tokenizer(inputCol=\"title\", outputCol=\"words\")\n",
    "title_w2v = Word2Vec(vectorSize=20, minCount=1, inputCol=\"words\", outputCol=\"w2v\")\n",
    "\n",
    "x_train_title = train.select([\"lable\",\"title\"])\n",
    "x_test_title = test.select([\"lable\",\"title\"])\n",
    "\n",
    "# # 标题\n",
    "#tokenizer\n",
    "x_train_title_token = title_tokenizer.transform(x_train_title)\n",
    "x_test_title_token = title_tokenizer.transform(x_test_title)\n",
    "#tf   \n",
    "title_w2v_model = title_w2v.fit(x_train_title_token)\n",
    "x_train_title_w2v = title_w2v_model.transform(x_train_title_token)\n",
    "x_test_title_w2v = title_w2v_model.transform(x_test_title_token)"
   ]
  },
  {
   "cell_type": "code",
   "execution_count": 4,
   "id": "0a32c829",
   "metadata": {
    "collapsed": true
   },
   "outputs": [],
   "source": [
    "x_train_title_w2v_1 = x_train_title_w2v.drop(\"title\").drop(\"words\")\n",
    "pandasdf = x_train_title_w2v_1.toPandas()\n",
    "# x_train_title_w2v.filter(x_train_title_w2v.lable==0 | x_train_title_w2v.lable==1)\n",
    "neg = pandasdf[pandasdf[\"lable\"]==\"0\"]\n",
    "pos = pandasdf[pandasdf[\"lable\"]==\"1\"]\n",
    "train_new = pd.concat([neg,pos]).reset_index(drop=True)\n",
    "train_new[\"lable\"].astype(int)\n",
    "values = train_new.values.tolist()\n",
    "columns = train_new.columns.tolist()\n",
    "train_new_sprak = spark.createDataFrame(values,columns)\n",
    "train_new_sprak2 = train_new_sprak.withColumn(\"lable_int\",train_new_sprak['lable'].cast('int')).drop('lable')"
   ]
  },
  {
   "cell_type": "code",
   "execution_count": 5,
   "id": "7c963a72",
   "metadata": {
    "collapsed": true
   },
   "outputs": [],
   "source": [
    "x_test_title_w2v_1 = x_test_title_w2v.drop(\"title\").drop(\"words\")\n",
    "pandasdf = x_test_title_w2v_1.toPandas()\n",
    "# x_train_title_w2v.filter(x_train_title_w2v.lable==0 | x_train_title_w2v.lable==1)\n",
    "neg = pandasdf[pandasdf[\"lable\"]==\"0\"]\n",
    "pos = pandasdf[pandasdf[\"lable\"]==\"1\"]\n",
    "test_new = pd.concat([neg,pos]).reset_index(drop=True)\n",
    "test_new[\"lable\"].astype(int)\n",
    "values = test_new.values.tolist()\n",
    "columns = test_new.columns.tolist()\n",
    "test_new_sprak = spark.createDataFrame(values,columns)\n",
    "test_new_sprak2 = test_new_sprak.withColumn(\"lable_int\",test_new_sprak['lable'].cast('int')).drop('lable')"
   ]
  },
  {
   "cell_type": "markdown",
   "id": "17b1afe5",
   "metadata": {},
   "source": [
    "# text"
   ]
  },
  {
   "cell_type": "code",
   "execution_count": 6,
   "id": "e0d81e31",
   "metadata": {
    "collapsed": true
   },
   "outputs": [],
   "source": [
    "x_train_text = train.select([\"lable\",\"text\"])\n",
    "df2 = x_train_text.toPandas()\n",
    "text_list_train = list(map(lambda x: str(x).split(\" \"), list(df2[\"text\"].astype(str))))\n",
    "df2[\"words\"] = text_list_train\n",
    "values = df2.values.tolist()\n",
    "columns = df2.columns.tolist()\n",
    "x_train_text_token = spark.createDataFrame(values,columns)"
   ]
  },
  {
   "cell_type": "code",
   "execution_count": 7,
   "id": "dabeb3de",
   "metadata": {
    "collapsed": true
   },
   "outputs": [],
   "source": [
    "x_test_text = test.select([\"lable\",\"text\"])\n",
    "df2 = x_test_text.toPandas()\n",
    "text_list_test = list(map(lambda x: str(x).split(\" \"), list(df2[\"text\"].astype(str))))\n",
    "df2[\"words\"] = text_list_test\n",
    "values = df2.values.tolist()\n",
    "columns = df2.columns.tolist()\n",
    "x_test_text_token = spark.createDataFrame(values,columns)"
   ]
  },
  {
   "cell_type": "code",
   "execution_count": 8,
   "id": "3fd2a938",
   "metadata": {
    "collapsed": true
   },
   "outputs": [],
   "source": [
    "text_w2v = Word2Vec(vectorSize=20, minCount=1, inputCol=\"words\", outputCol=\"w2v\")\n",
    "text_w2v_model = text_w2v.fit(x_train_text_token)\n",
    "x_train_text_w2v = text_w2v_model.transform(x_train_text_token)\n",
    "x_test_text_w2v = text_w2v_model.transform(x_test_text_token)\n",
    "x_train_text_w2v_1=x_train_text_w2v.drop(\"text\").drop(\"words\")\n",
    "x_test_text_w2v_1=x_test_text_w2v.drop(\"text\").drop(\"words\")\n",
    "x_train_text_w2v_2 = x_train_text_w2v_1.withColumn(\"lable_int\",x_train_text_w2v_1['lable'].cast('int')).drop('lable')\n",
    "x_test_text_w2v_2 = x_test_text_w2v_1.withColumn(\"lable_int\",x_test_text_w2v_1['lable'].cast('int')).drop('lable')"
   ]
  },
  {
   "cell_type": "markdown",
   "id": "880f35e7",
   "metadata": {},
   "source": [
    "# subject"
   ]
  },
  {
   "cell_type": "code",
   "execution_count": null,
   "id": "6b43e39f",
   "metadata": {
    "collapsed": true
   },
   "outputs": [],
   "source": [
    "# subject no use\n",
    "x_train_subject = train.select([\"lable\",\"subject\"])\n",
    "x_test_subject = test.select([\"lable\",\"subject\"])"
   ]
  },
  {
   "cell_type": "markdown",
   "id": "6a7b6678",
   "metadata": {},
   "source": [
    "# concat title w2v with text w2v"
   ]
  },
  {
   "cell_type": "code",
   "execution_count": 9,
   "id": "922b5de1",
   "metadata": {
    "collapsed": true
   },
   "outputs": [],
   "source": [
    "#train title+text\n",
    "title_train_df = train_new_sprak2.toPandas()\n",
    "text_train_df = x_train_text_w2v_2.toPandas()\n",
    "concat_train = []\n",
    "for i,j in zip(title_train_df[\"w2v\"],text_train_df[\"w2v\"]):\n",
    "    concat_train.append(DenseVector(list(i)+list(j)))\n",
    "pddf_train = title_train_df.copy().drop(\"w2v\",axis=1)\n",
    "pddf_train[\"w2v\"]=concat_train\n",
    "values = pddf_train.values.tolist()\n",
    "columns = pddf_train.columns.tolist()\n",
    "spdf_train = spark.createDataFrame(values,columns)"
   ]
  },
  {
   "cell_type": "code",
   "execution_count": 10,
   "id": "9cd9b083",
   "metadata": {
    "collapsed": true
   },
   "outputs": [],
   "source": [
    "#train title+text\n",
    "title_test_df = test_new_sprak2.toPandas()\n",
    "text_test_df = x_test_text_w2v_2.toPandas()\n",
    "concat_test = []\n",
    "for i,j in zip(title_test_df[\"w2v\"],text_test_df[\"w2v\"]):\n",
    "    concat_test.append(DenseVector(list(i)+list(j)))\n",
    "pddf_test = title_test_df.copy().drop(\"w2v\",axis=1)\n",
    "pddf_test[\"w2v\"]=concat_test\n",
    "values = pddf_test.values.tolist()\n",
    "columns = pddf_test.columns.tolist()\n",
    "spdf_test = spark.createDataFrame(values,columns)"
   ]
  },
  {
   "cell_type": "markdown",
   "id": "7572889d",
   "metadata": {},
   "source": [
    "# classifier model and evaluate"
   ]
  },
  {
   "cell_type": "code",
   "execution_count": 11,
   "id": "77e27e6f",
   "metadata": {},
   "outputs": [
    {
     "name": "stdout",
     "output_type": "stream",
     "text": [
      "LR == accuracy- 0.9443104582328437 , precision- 0.9446679364375072 , recall- 0.9443104582328437 , f1 score- 0.9442911886620388 , roc-auc- 0.9441690713735463 , pr-auc- 0.9407804253724824\n"
     ]
    }
   ],
   "source": [
    "lr = LogisticRegression(featuresCol=\"w2v\",labelCol=\"lable_int\")\n",
    "lr_model = lr.fit(spdf_train)\n",
    "result = lr_model.transform(spdf_test)\n",
    "p = MulticlassClassificationEvaluator(predictionCol='prediction', labelCol=\"lable_int\", metricName='weightedPrecision').evaluate(result)\n",
    "r = MulticlassClassificationEvaluator(predictionCol='prediction', labelCol=\"lable_int\", metricName='weightedRecall').evaluate(result)\n",
    "f1 = MulticlassClassificationEvaluator(predictionCol='prediction', labelCol=\"lable_int\", metricName='f1').evaluate(result)\n",
    "accuracy = MulticlassClassificationEvaluator(predictionCol='prediction', labelCol=\"lable_int\", metricName='accuracy').evaluate(result)\n",
    "roc_auc = BinaryClassificationEvaluator(rawPredictionCol='prediction', labelCol=\"lable_int\", metricName='areaUnderROC').evaluate(result)\n",
    "pr_auc = BinaryClassificationEvaluator(rawPredictionCol='prediction', labelCol=\"lable_int\", metricName='areaUnderPR').evaluate(result)\n",
    "print(\"LR == accuracy-\",accuracy,\", precision-\",p,\", recall-\",r,\", f1 score-\", f1,\", roc-auc-\",roc_auc,\", pr-auc-\",pr_auc)"
   ]
  },
  {
   "cell_type": "code",
   "execution_count": 12,
   "id": "f39595c4",
   "metadata": {},
   "outputs": [
    {
     "name": "stdout",
     "output_type": "stream",
     "text": [
      "DecisionTree == accuracy- 0.8875246656434992 , precision- 0.8884267326854189 , recall- 0.8875246656434992 , f1 score- 0.8874292436367341 , roc-auc- 0.887281071678149 , pr-auc- 0.8782940823653221\n"
     ]
    }
   ],
   "source": [
    "dt = DecisionTreeClassifier(featuresCol=\"w2v\",labelCol=\"lable_int\")\n",
    "dt_model = dt.fit(spdf_train)\n",
    "result = dt_model.transform(spdf_test)\n",
    "p = MulticlassClassificationEvaluator(predictionCol='prediction', labelCol=\"lable_int\", metricName='weightedPrecision').evaluate(result)\n",
    "r = MulticlassClassificationEvaluator(predictionCol='prediction', labelCol=\"lable_int\", metricName='weightedRecall').evaluate(result)\n",
    "f1 = MulticlassClassificationEvaluator(predictionCol='prediction', labelCol=\"lable_int\", metricName='f1').evaluate(result)\n",
    "accuracy = MulticlassClassificationEvaluator(predictionCol='prediction', labelCol=\"lable_int\", metricName='accuracy').evaluate(result)\n",
    "roc_auc = BinaryClassificationEvaluator(rawPredictionCol='prediction', labelCol=\"lable_int\", metricName='areaUnderROC').evaluate(result)\n",
    "pr_auc = BinaryClassificationEvaluator(rawPredictionCol='prediction', labelCol=\"lable_int\", metricName='areaUnderPR').evaluate(result)\n",
    "print(\"DecisionTree == accuracy-\",accuracy,\", precision-\",p,\", recall-\",r,\", f1 score-\", f1,\", roc-auc-\",roc_auc,\", pr-auc-\",pr_auc)"
   ]
  },
  {
   "cell_type": "code",
   "execution_count": 13,
   "id": "52779b3c",
   "metadata": {},
   "outputs": [
    {
     "name": "stdout",
     "output_type": "stream",
     "text": [
      "RF == accuracy- 0.9160271870203902 , precision- 0.9160268654865381 , recall- 0.9160271870203902 , f1 score- 0.9160266299092776 , roc-auc- 0.9160135209716208 , pr-auc- 0.897817471208022\n"
     ]
    }
   ],
   "source": [
    "rf = RandomForestClassifier(featuresCol=\"w2v\",labelCol=\"lable_int\")\n",
    "rf_model = rf.fit(spdf_train)\n",
    "result = rf_model.transform(spdf_test)\n",
    "p = MulticlassClassificationEvaluator(predictionCol='prediction', labelCol=\"lable_int\", metricName='weightedPrecision').evaluate(result)\n",
    "r = MulticlassClassificationEvaluator(predictionCol='prediction', labelCol=\"lable_int\", metricName='weightedRecall').evaluate(result)\n",
    "f1 = MulticlassClassificationEvaluator(predictionCol='prediction', labelCol=\"lable_int\", metricName='f1').evaluate(result)\n",
    "accuracy = MulticlassClassificationEvaluator(predictionCol='prediction', labelCol=\"lable_int\", metricName='accuracy').evaluate(result)\n",
    "roc_auc = BinaryClassificationEvaluator(rawPredictionCol='prediction', labelCol=\"lable_int\", metricName='areaUnderROC').evaluate(result)\n",
    "pr_auc = BinaryClassificationEvaluator(rawPredictionCol='prediction', labelCol=\"lable_int\", metricName='areaUnderPR').evaluate(result)\n",
    "print(\"RF == accuracy-\",accuracy,\", precision-\",p,\", recall-\",r,\", f1 score-\", f1,\", roc-auc-\",roc_auc,\", pr-auc-\",pr_auc)"
   ]
  },
  {
   "cell_type": "code",
   "execution_count": 14,
   "id": "63d66d60",
   "metadata": {},
   "outputs": [
    {
     "name": "stdout",
     "output_type": "stream",
     "text": [
      "LinerSVC == accuracy- 0.9427757070817803 , precision- 0.943058467318349 , recall- 0.9427757070817804 , f1 score- 0.9427591444353575 , roc-auc- 0.9426486543448755 , pr-auc- 0.9378428422426994\n"
     ]
    }
   ],
   "source": [
    "svc = LinearSVC(featuresCol=\"w2v\",labelCol=\"lable_int\")\n",
    "svc_model = svc.fit(spdf_train)\n",
    "result = svc_model.transform(spdf_test)\n",
    "p = MulticlassClassificationEvaluator(predictionCol='prediction', labelCol=\"lable_int\", metricName='weightedPrecision').evaluate(result)\n",
    "r = MulticlassClassificationEvaluator(predictionCol='prediction', labelCol=\"lable_int\", metricName='weightedRecall').evaluate(result)\n",
    "f1 = MulticlassClassificationEvaluator(predictionCol='prediction', labelCol=\"lable_int\", metricName='f1').evaluate(result)\n",
    "accuracy = MulticlassClassificationEvaluator(predictionCol='prediction', labelCol=\"lable_int\", metricName='accuracy').evaluate(result)\n",
    "roc_auc = BinaryClassificationEvaluator(rawPredictionCol='prediction', labelCol=\"lable_int\", metricName='areaUnderROC').evaluate(result)\n",
    "pr_auc = BinaryClassificationEvaluator(rawPredictionCol='prediction', labelCol=\"lable_int\", metricName='areaUnderPR').evaluate(result)\n",
    "print(\"LinerSVC == accuracy-\",accuracy,\", precision-\",p,\", recall-\",r,\", f1 score-\", f1,\", roc-auc-\",roc_auc,\", pr-auc-\",pr_auc)"
   ]
  },
  {
   "cell_type": "code",
   "execution_count": 15,
   "id": "c46e6847",
   "metadata": {},
   "outputs": [
    {
     "name": "stdout",
     "output_type": "stream",
     "text": [
      "MLP == accuracy- 0.9484762113571585 , precision- 0.9488496075542439 , recall- 0.9484762113571585 , f1 score- 0.9484579468559541 , roc-auc- 0.9483331275727287 , pr-auc- 0.9460911164663939\n"
     ]
    }
   ],
   "source": [
    "mlp = MultilayerPerceptronClassifier(featuresCol=\"w2v\",labelCol=\"lable_int\",layers=[40,16,2])\n",
    "mlp_model = mlp.fit(spdf_train)\n",
    "result = mlp_model.transform(spdf_test)\n",
    "p = MulticlassClassificationEvaluator(predictionCol='prediction', labelCol=\"lable_int\", metricName='weightedPrecision').evaluate(result)\n",
    "r = MulticlassClassificationEvaluator(predictionCol='prediction', labelCol=\"lable_int\", metricName='weightedRecall').evaluate(result)\n",
    "f1 = MulticlassClassificationEvaluator(predictionCol='prediction', labelCol=\"lable_int\", metricName='f1').evaluate(result)\n",
    "accuracy = MulticlassClassificationEvaluator(predictionCol='prediction', labelCol=\"lable_int\", metricName='accuracy').evaluate(result)\n",
    "roc_auc = BinaryClassificationEvaluator(rawPredictionCol='prediction', labelCol=\"lable_int\", metricName='areaUnderROC').evaluate(result)\n",
    "pr_auc = BinaryClassificationEvaluator(rawPredictionCol='prediction', labelCol=\"lable_int\", metricName='areaUnderPR').evaluate(result)\n",
    "print(\"MLP == accuracy-\",accuracy,\", precision-\",p,\", recall-\",r,\", f1 score-\", f1,\", roc-auc-\",roc_auc,\", pr-auc-\",pr_auc)"
   ]
  },
  {
   "cell_type": "markdown",
   "id": "ebc8dfae",
   "metadata": {},
   "source": [
    "# TSNE"
   ]
  },
  {
   "cell_type": "code",
   "execution_count": 16,
   "id": "3246c0d4",
   "metadata": {},
   "outputs": [],
   "source": [
    "import ast\n",
    "from sklearn.manifold import TSNE"
   ]
  },
  {
   "cell_type": "code",
   "execution_count": 17,
   "id": "d7b5b247",
   "metadata": {},
   "outputs": [],
   "source": [
    "vec_train = []\n",
    "vec_test = []\n",
    "for i in pddf_train[\"w2v\"]:\n",
    "    vec_train.append(ast.literal_eval(i))\n",
    "for i in pddf_test[\"w2v\"]:\n",
    "    vec_test.append(ast.literal_eval(i)) "
   ]
  },
  {
   "cell_type": "code",
   "execution_count": 18,
   "id": "0de7a011",
   "metadata": {},
   "outputs": [
    {
     "data": {
      "text/plain": [
       "<AxesSubplot:xlabel='x_dim', ylabel='y_dim'>"
      ]
     },
     "execution_count": 18,
     "metadata": {},
     "output_type": "execute_result"
    },
    {
     "data": {
      "image/png": "[encoded data removed]",
      "text/plain": [
       "<Figure size 432x288 with 2 Axes>"
      ]
     },
     "metadata": {
      "needs_background": "light"
     },
     "output_type": "display_data"
    }
   ],
   "source": [
    "#训练集\n",
    "ts = TSNE(n_components=2)\n",
    "ts.fit_transform(vec_train)\n",
    "vec_2 = pd.DataFrame(ts.embedding_)\n",
    "df_vec_2 = pd.concat([pddf_train[\"lable_int\"], vec_2], axis=1)\n",
    "df_vec_2.columns = ['label','x_dim','y_dim']\n",
    "df_vec_2.plot.scatter(\"x_dim\", \"y_dim\", c=\"label\", colormap='jet')"
   ]
  },
  {
   "cell_type": "code",
   "execution_count": 19,
   "id": "1e3fe7f8",
   "metadata": {},
   "outputs": [
    {
     "data": {
      "text/plain": [
       "<AxesSubplot:xlabel='x_dim', ylabel='y_dim'>"
      ]
     },
     "execution_count": 19,
     "metadata": {},
     "output_type": "execute_result"
    },
    {
     "data": {
      "image/png": "[encoded data removed]",
      "text/plain": [
       "<Figure size 432x288 with 2 Axes>"
      ]
     },
     "metadata": {
      "needs_background": "light"
     },
     "output_type": "display_data"
    }
   ],
   "source": [
    "#测试集\n",
    "ts = TSNE(n_components=2)\n",
    "ts.fit_transform(vec_test)\n",
    "vec_2 = pd.DataFrame(ts.embedding_)\n",
    "df_vec_2 = pd.concat([pddf_test[\"lable_int\"], vec_2], axis=1)\n",
    "df_vec_2.columns = ['label','x_dim','y_dim']\n",
    "df_vec_2.plot.scatter(\"x_dim\", \"y_dim\", c=\"label\", colormap='jet')"
   ]
  }
 ],
 "metadata": {
  "kernelspec": {
   "display_name": "Python 3",
   "language": "python",
   "name": "python3"
  },
  "language_info": {
   "codemirror_mode": {
    "name": "ipython",
    "version": 3
   },
   "file_extension": ".py",
   "mimetype": "text/x-python",
   "name": "python",
   "nbconvert_exporter": "python",
   "pygments_lexer": "ipython3",
   "version": "3.8.5"
  },
  "toc": {
   "base_numbering": 1,
   "nav_menu": {},
   "number_sections": true,
   "sideBar": true,
   "skip_h1_title": false,
   "title_cell": "Table of Contents",
   "title_sidebar": "Contents",
   "toc_cell": false,
   "toc_position": {},
   "toc_section_display": true,
   "toc_window_display": false
  }
 },
 "nbformat": 4,
 "nbformat_minor": 5
}
